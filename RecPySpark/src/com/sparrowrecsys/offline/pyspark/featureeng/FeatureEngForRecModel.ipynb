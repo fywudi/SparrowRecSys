{
 "cells": [
  {
   "cell_type": "code",
   "execution_count": 1,
   "id": "b3487ec6",
   "metadata": {},
   "outputs": [],
   "source": [
    "from pyspark import SparkContext, SparkConf\n",
    "from pyspark.sql import SparkSession\n",
    "import pyspark.sql as sql\n",
    "from pyspark.sql.functions import *\n",
    "from pyspark.sql.types import *\n",
    "from collections import defaultdict\n",
    "from pyspark.sql import functions as F\n",
    "\n",
    "NUMBER_PRECISION = 2"
   ]
  },
  {
   "cell_type": "code",
   "execution_count": 2,
   "id": "d322f51e",
   "metadata": {},
   "outputs": [],
   "source": [
    "import os\n",
    "import sys\n",
    "from pyspark.sql import SparkSession\n",
    "\n",
    "os.environ['PYSPARK_PYTHON'] = sys.executable\n",
    "os.environ['PYSPARK_DRIVER_PYTHON'] = sys.executable"
   ]
  },
  {
   "cell_type": "code",
   "execution_count": 3,
   "id": "59e5af53",
   "metadata": {
    "scrolled": true
   },
   "outputs": [],
   "source": [
    "conf = SparkConf().setAppName('featureEngineering').setMaster('local')\n",
    "spark = SparkSession.builder.config(conf=conf).getOrCreate()"
   ]
  },
  {
   "cell_type": "code",
   "execution_count": 4,
   "id": "5dbe195b",
   "metadata": {},
   "outputs": [],
   "source": [
    "file_path = r'C:\\Users\\nxf42771\\Documents\\GitHub\\SparrowRecSys\\src\\main/resources'\n",
    "movieResourcesPath = file_path + \"/webroot/sampledata/movies.csv\"\n",
    "ratingsResourcesPath = file_path + \"/webroot/sampledata/ratings.csv\"\n",
    "movieSamples = spark.read.format('csv').option('header', 'true').load(movieResourcesPath)\n",
    "ratingSamples = spark.read.format('csv').option('header', 'true').load(ratingsResourcesPath)"
   ]
  },
  {
   "cell_type": "code",
   "execution_count": 5,
   "id": "2282b8d6",
   "metadata": {},
   "outputs": [
    {
     "name": "stdout",
     "output_type": "stream",
     "text": [
      "+------+-------+------+----------+\n",
      "|userId|movieId|rating|timestamp |\n",
      "+------+-------+------+----------+\n",
      "|1     |2      |3.5   |1112486027|\n",
      "|1     |29     |3.5   |1112484676|\n",
      "|1     |32     |3.5   |1112484819|\n",
      "|1     |47     |3.5   |1112484727|\n",
      "|1     |50     |3.5   |1112484580|\n",
      "+------+-------+------+----------+\n",
      "only showing top 5 rows\n",
      "\n",
      "root\n",
      " |-- userId: string (nullable = true)\n",
      " |-- movieId: string (nullable = true)\n",
      " |-- rating: string (nullable = true)\n",
      " |-- timestamp: string (nullable = true)\n",
      "\n"
     ]
    }
   ],
   "source": [
    "ratingSamples.show(5, truncate=False)\n",
    "ratingSamples.printSchema()\n",
    "sampleCount = ratingSamples.count()"
   ]
  },
  {
   "cell_type": "code",
   "execution_count": 6,
   "id": "caab0bfb",
   "metadata": {},
   "outputs": [
    {
     "data": {
      "text/plain": [
       "1168638"
      ]
     },
     "execution_count": 6,
     "metadata": {},
     "output_type": "execute_result"
    }
   ],
   "source": [
    "sampleCount"
   ]
  },
  {
   "cell_type": "code",
   "execution_count": 7,
   "id": "dd11905b",
   "metadata": {},
   "outputs": [
    {
     "name": "stdout",
     "output_type": "stream",
     "text": [
      "+------+------+--------------------+\n",
      "|rating| count|          percentage|\n",
      "+------+------+--------------------+\n",
      "|   0.5|  9788|0.008375561978987506|\n",
      "|   1.0| 45018| 0.03852176636392108|\n",
      "|   1.5| 11794|0.010092090108314123|\n",
      "|   2.0| 87084| 0.07451751526135553|\n",
      "|   2.5| 34269|0.029323879593167432|\n",
      "|   3.0|323616| 0.27691723185451783|\n",
      "|   3.5| 74376| 0.06364331811904114|\n",
      "|   4.0|324804|  0.2779337998593234|\n",
      "|   4.5| 53388| 0.04568395003414231|\n",
      "|   5.0|204501| 0.17499088682722966|\n",
      "+------+------+--------------------+\n",
      "\n"
     ]
    }
   ],
   "source": [
    "ratingSamples.groupBy('rating').count().orderBy('rating').withColumn('percentage',\n",
    "                                                                     F.col('count') / sampleCount).show()"
   ]
  },
  {
   "cell_type": "code",
   "execution_count": 8,
   "id": "22b2204b",
   "metadata": {},
   "outputs": [],
   "source": [
    "ratingSamplesWithLabel = ratingSamples.withColumn('label', when(F.col('rating') >= 3.5, 1).otherwise(0))\n"
   ]
  },
  {
   "cell_type": "code",
   "execution_count": 9,
   "id": "f8d3ebdc",
   "metadata": {},
   "outputs": [
    {
     "name": "stdout",
     "output_type": "stream",
     "text": [
      "+-------+----------------------------------+-------------------------------------------+\n",
      "|movieId|title                             |genres                                     |\n",
      "+-------+----------------------------------+-------------------------------------------+\n",
      "|1      |Toy Story (1995)                  |Adventure|Animation|Children|Comedy|Fantasy|\n",
      "|2      |Jumanji (1995)                    |Adventure|Children|Fantasy                 |\n",
      "|3      |Grumpier Old Men (1995)           |Comedy|Romance                             |\n",
      "|4      |Waiting to Exhale (1995)          |Comedy|Drama|Romance                       |\n",
      "|5      |Father of the Bride Part II (1995)|Comedy                                     |\n",
      "|6      |Heat (1995)                       |Action|Crime|Thriller                      |\n",
      "|7      |Sabrina (1995)                    |Comedy|Romance                             |\n",
      "|8      |Tom and Huck (1995)               |Adventure|Children                         |\n",
      "|9      |Sudden Death (1995)               |Action                                     |\n",
      "|10     |GoldenEye (1995)                  |Action|Adventure|Thriller                  |\n",
      "+-------+----------------------------------+-------------------------------------------+\n",
      "only showing top 10 rows\n",
      "\n"
     ]
    }
   ],
   "source": [
    "movieSamples.show(10, truncate=False)"
   ]
  },
  {
   "cell_type": "code",
   "execution_count": 10,
   "id": "4a71f6af",
   "metadata": {},
   "outputs": [
    {
     "name": "stdout",
     "output_type": "stream",
     "text": [
      "+------+-------+------+----------+-----+\n",
      "|userId|movieId|rating| timestamp|label|\n",
      "+------+-------+------+----------+-----+\n",
      "|     1|      2|   3.5|1112486027|    1|\n",
      "|     1|     29|   3.5|1112484676|    1|\n",
      "|     1|     32|   3.5|1112484819|    1|\n",
      "|     1|     47|   3.5|1112484727|    1|\n",
      "|     1|     50|   3.5|1112484580|    1|\n",
      "|     1|    112|   3.5|1094785740|    1|\n",
      "|     1|    151|   4.0|1094785734|    1|\n",
      "|     1|    223|   4.0|1112485573|    1|\n",
      "|     1|    253|   4.0|1112484940|    1|\n",
      "|     1|    260|   4.0|1112484826|    1|\n",
      "+------+-------+------+----------+-----+\n",
      "only showing top 10 rows\n",
      "\n"
     ]
    }
   ],
   "source": [
    "ratingSamplesWithLabel.show(10)"
   ]
  },
  {
   "cell_type": "code",
   "execution_count": 11,
   "id": "2b17b82b",
   "metadata": {},
   "outputs": [
    {
     "name": "stdout",
     "output_type": "stream",
     "text": [
      "+-------+------+------+----------+-----+--------------------+--------------------+\n",
      "|movieId|userId|rating| timestamp|label|               title|              genres|\n",
      "+-------+------+------+----------+-----+--------------------+--------------------+\n",
      "|      2|     1|   3.5|1112486027|    1|      Jumanji (1995)|Adventure|Childre...|\n",
      "|     29|     1|   3.5|1112484676|    1|City of Lost Chil...|Adventure|Drama|F...|\n",
      "|     32|     1|   3.5|1112484819|    1|Twelve Monkeys (a...|Mystery|Sci-Fi|Th...|\n",
      "|     47|     1|   3.5|1112484727|    1|Seven (a.k.a. Se7...|    Mystery|Thriller|\n",
      "|     50|     1|   3.5|1112484580|    1|Usual Suspects, T...|Crime|Mystery|Thr...|\n",
      "|    112|     1|   3.5|1094785740|    1|Rumble in the Bro...|Action|Adventure|...|\n",
      "|    151|     1|   4.0|1094785734|    1|      Rob Roy (1995)|Action|Drama|Roma...|\n",
      "|    223|     1|   4.0|1112485573|    1|       Clerks (1994)|              Comedy|\n",
      "|    253|     1|   4.0|1112484940|    1|Interview with th...|        Drama|Horror|\n",
      "|    260|     1|   4.0|1112484826|    1|Star Wars: Episod...|Action|Adventure|...|\n",
      "+-------+------+------+----------+-----+--------------------+--------------------+\n",
      "only showing top 10 rows\n",
      "\n"
     ]
    }
   ],
   "source": [
    "# add movie basic features\n",
    "samplesWithMovies1 = ratingSamplesWithLabel.join(movieSamples, on=['movieId'], how='left')\n",
    "samplesWithMovies1.show(10)"
   ]
  },
  {
   "cell_type": "code",
   "execution_count": 12,
   "id": "1b4e77af",
   "metadata": {},
   "outputs": [],
   "source": [
    "def extractReleaseYearUdf(title):\n",
    "    # add realease year\n",
    "    if not title or len(title.strip()) < 6:\n",
    "        return 1990\n",
    "    else:\n",
    "        yearStr = title.strip()[-5:-1]\n",
    "    return int(yearStr)\n",
    "\n",
    "\n",
    "# add releaseYear,title\n",
    "samplesWithMovies2 = samplesWithMovies1.withColumn('releaseYear',\n",
    "                                                   udf(extractReleaseYearUdf, IntegerType())('title')) \\\n",
    "    .withColumn('title', udf(lambda x: x.strip()[:-6].strip(), StringType())('title')) \\\n",
    "    .drop('title')"
   ]
  },
  {
   "cell_type": "code",
   "execution_count": 13,
   "id": "45c56936",
   "metadata": {},
   "outputs": [],
   "source": [
    "# split genres\n",
    "samplesWithMovies3 = samplesWithMovies2.withColumn('movieGenre1', split(F.col('genres'), \"\\\\|\")[0]) \\\n",
    "    .withColumn('movieGenre2', split(F.col('genres'), \"\\\\|\")[1]) \\\n",
    "    .withColumn('movieGenre3', split(F.col('genres'), \"\\\\|\")[2])"
   ]
  },
  {
   "cell_type": "code",
   "execution_count": 14,
   "id": "5bc8160a",
   "metadata": {},
   "outputs": [],
   "source": [
    "# add rating features\n",
    "movieRatingFeatures = samplesWithMovies3.groupBy('movieId').agg(F.count(F.lit(1)).alias('movieRatingCount'),\n",
    "                                                                format_number(F.avg(F.col('rating')),\n",
    "                                                                              NUMBER_PRECISION).alias(\n",
    "                                                                    'movieAvgRating'),\n",
    "                                                                F.stddev(F.col('rating')).alias(\n",
    "                                                                    'movieRatingStddev')).fillna(0) \\\n",
    "    .withColumn('movieRatingStddev', format_number(F.col('movieRatingStddev'), NUMBER_PRECISION))"
   ]
  },
  {
   "cell_type": "code",
   "execution_count": 15,
   "id": "d41508fd",
   "metadata": {},
   "outputs": [
    {
     "name": "stdout",
     "output_type": "stream",
     "text": [
      "root\n",
      " |-- movieId: string (nullable = true)\n",
      " |-- userId: string (nullable = true)\n",
      " |-- rating: string (nullable = true)\n",
      " |-- timestamp: string (nullable = true)\n",
      " |-- label: integer (nullable = false)\n",
      " |-- genres: string (nullable = true)\n",
      " |-- releaseYear: integer (nullable = true)\n",
      " |-- movieGenre1: string (nullable = true)\n",
      " |-- movieGenre2: string (nullable = true)\n",
      " |-- movieGenre3: string (nullable = true)\n",
      " |-- movieRatingCount: long (nullable = true)\n",
      " |-- movieAvgRating: string (nullable = true)\n",
      " |-- movieRatingStddev: string (nullable = true)\n",
      "\n"
     ]
    },
    {
     "data": {
      "text/plain": [
       "DataFrame[movieId: string, userId: string, rating: string, timestamp: string, label: int, genres: string, releaseYear: int, movieGenre1: string, movieGenre2: string, movieGenre3: string, movieRatingCount: bigint, movieAvgRating: string, movieRatingStddev: string]"
      ]
     },
     "execution_count": 15,
     "metadata": {},
     "output_type": "execute_result"
    }
   ],
   "source": [
    "# join movie rating features\n",
    "samplesWithMovies4 = samplesWithMovies3.join(movieRatingFeatures, on=['movieId'], how='left')\n",
    "samplesWithMovies4.printSchema()\n",
    "samplesWithMovies4"
   ]
  },
  {
   "cell_type": "code",
   "execution_count": 16,
   "id": "969dcba0",
   "metadata": {
    "scrolled": false
   },
   "outputs": [
    {
     "name": "stdout",
     "output_type": "stream",
     "text": [
      "+-------+------+------+----------+-----+---------------------------+-----------+-----------+-----------+-----------+----------------+--------------+-----------------+\n",
      "|movieId|userId|rating|timestamp |label|genres                     |releaseYear|movieGenre1|movieGenre2|movieGenre3|movieRatingCount|movieAvgRating|movieRatingStddev|\n",
      "+-------+------+------+----------+-----+---------------------------+-----------+-----------+-----------+-----------+----------------+--------------+-----------------+\n",
      "|296    |1     |4.0   |1112484767|1    |Comedy|Crime|Drama|Thriller|1994       |Comedy     |Crime      |Drama      |14616           |4.17          |0.98             |\n",
      "|296    |8     |5.0   |833973081 |1    |Comedy|Crime|Drama|Thriller|1994       |Comedy     |Crime      |Drama      |14616           |4.17          |0.98             |\n",
      "|296    |11    |3.5   |1230858799|1    |Comedy|Crime|Drama|Thriller|1994       |Comedy     |Crime      |Drama      |14616           |4.17          |0.98             |\n",
      "|296    |13    |5.0   |849082366 |1    |Comedy|Crime|Drama|Thriller|1994       |Comedy     |Crime      |Drama      |14616           |4.17          |0.98             |\n",
      "|296    |15    |3.0   |840206642 |0    |Comedy|Crime|Drama|Thriller|1994       |Comedy     |Crime      |Drama      |14616           |4.17          |0.98             |\n",
      "+-------+------+------+----------+-----+---------------------------+-----------+-----------+-----------+-----------+----------------+--------------+-----------------+\n",
      "only showing top 5 rows\n",
      "\n"
     ]
    }
   ],
   "source": [
    "samplesWithMovies4.show(5,False)"
   ]
  },
  {
   "cell_type": "code",
   "execution_count": 17,
   "id": "d2d3b158",
   "metadata": {},
   "outputs": [
    {
     "name": "stdout",
     "output_type": "stream",
     "text": [
      "root\n",
      " |-- movieId: string (nullable = true)\n",
      " |-- userId: string (nullable = true)\n",
      " |-- rating: string (nullable = true)\n",
      " |-- timestamp: string (nullable = true)\n",
      " |-- label: integer (nullable = false)\n",
      " |-- genres: string (nullable = true)\n",
      " |-- releaseYear: integer (nullable = true)\n",
      " |-- movieGenre1: string (nullable = true)\n",
      " |-- movieGenre2: string (nullable = true)\n",
      " |-- movieGenre3: string (nullable = true)\n",
      " |-- movieRatingCount: long (nullable = true)\n",
      " |-- movieAvgRating: string (nullable = true)\n",
      " |-- movieRatingStddev: string (nullable = true)\n",
      "\n"
     ]
    }
   ],
   "source": [
    "samplesWithMovieFeatures = samplesWithMovies4\n",
    "samplesWithMovieFeatures.printSchema()"
   ]
  },
  {
   "cell_type": "code",
   "execution_count": 18,
   "id": "52123ccc",
   "metadata": {},
   "outputs": [],
   "source": [
    "def extractGenres(genres_list):\n",
    "    '''\n",
    "    pass in a list which format like [\"Action|Adventure|Sci-Fi|Thriller\", \"Crime|Horror|Thriller\"]\n",
    "    count by each genre，return genre_list in reverse order\n",
    "    eg:\n",
    "    (('Thriller',2),('Action',1),('Sci-Fi',1),('Horror', 1), ('Adventure',1),('Crime',1))\n",
    "    return:['Thriller','Action','Sci-Fi','Horror','Adventure','Crime']\n",
    "    '''\n",
    "    genres_dict = defaultdict(int)\n",
    "    for genres in genres_list:\n",
    "        for genre in genres.split('|'):\n",
    "            genres_dict[genre] += 1\n",
    "    sortedGenres = sorted(genres_dict.items(), key=lambda x: x[1], reverse=True)\n",
    "    return [x[0] for x in sortedGenres]\n",
    "\n",
    "def addUserFeatures(samplesWithMovieFeatures):\n",
    "    extractGenresUdf = udf(extractGenres, ArrayType(StringType()))\n",
    "    samplesWithUserFeatures = samplesWithMovieFeatures \\\n",
    "        .withColumn('userPositiveHistory',\n",
    "                    F.collect_list(when(F.col('label') == 1, F.col('movieId')).otherwise(F.lit(None))).over(\n",
    "                        sql.Window.partitionBy(\"userId\").orderBy(F.col(\"timestamp\")).rowsBetween(-100, -1))) \\\n",
    "        .withColumn(\"userPositiveHistory\", reverse(F.col(\"userPositiveHistory\"))) \\\n",
    "        .withColumn('userRatedMovie1', F.col('userPositiveHistory')[0]) \\\n",
    "        .withColumn('userRatedMovie2', F.col('userPositiveHistory')[1]) \\\n",
    "        .withColumn('userRatedMovie3', F.col('userPositiveHistory')[2]) \\\n",
    "        .withColumn('userRatedMovie4', F.col('userPositiveHistory')[3]) \\\n",
    "        .withColumn('userRatedMovie5', F.col('userPositiveHistory')[4]) \\\n",
    "        .withColumn('userRatingCount',\n",
    "                    F.count(F.lit(1)).over(sql.Window.partitionBy('userId').orderBy('timestamp').rowsBetween(-100, -1))) \\\n",
    "        .withColumn('userAvgReleaseYear', F.avg(F.col('releaseYear')).over(\n",
    "        sql.Window.partitionBy('userId').orderBy('timestamp').rowsBetween(-100, -1)).cast(IntegerType())) \\\n",
    "        .withColumn('userReleaseYearStddev', F.stddev(F.col(\"releaseYear\")).over(\n",
    "        sql.Window.partitionBy('userId').orderBy('timestamp').rowsBetween(-100, -1))) \\\n",
    "        .withColumn(\"userAvgRating\", format_number(\n",
    "        F.avg(F.col(\"rating\")).over(sql.Window.partitionBy('userId').orderBy('timestamp').rowsBetween(-100, -1)),\n",
    "        NUMBER_PRECISION)) \\\n",
    "        .withColumn(\"userRatingStddev\", F.stddev(F.col(\"rating\")).over(\n",
    "        sql.Window.partitionBy('userId').orderBy('timestamp').rowsBetween(-100, -1))) \\\n",
    "        .withColumn(\"userGenres\", extractGenresUdf(\n",
    "        F.collect_list(when(F.col('label') == 1, F.col('genres')).otherwise(F.lit(None))).over(\n",
    "            sql.Window.partitionBy('userId').orderBy('timestamp').rowsBetween(-100, -1)))) \\\n",
    "        .withColumn(\"userRatingStddev\", format_number(F.col(\"userRatingStddev\"), NUMBER_PRECISION)) \\\n",
    "        .withColumn(\"userReleaseYearStddev\", format_number(F.col(\"userReleaseYearStddev\"), NUMBER_PRECISION)) \\\n",
    "        .withColumn(\"userGenre1\", F.col(\"userGenres\")[0]) \\\n",
    "        .withColumn(\"userGenre2\", F.col(\"userGenres\")[1]) \\\n",
    "        .withColumn(\"userGenre3\", F.col(\"userGenres\")[2]) \\\n",
    "        .withColumn(\"userGenre4\", F.col(\"userGenres\")[3]) \\\n",
    "        .withColumn(\"userGenre5\", F.col(\"userGenres\")[4]) \\\n",
    "        .drop(\"genres\", \"userGenres\", \"userPositiveHistory\") \\\n",
    "        .filter(F.col(\"userRatingCount\") > 1)\n",
    "    samplesWithUserFeatures.printSchema()\n",
    "    samplesWithUserFeatures.show(10)\n",
    "    samplesWithUserFeatures.filter(samplesWithMovieFeatures['userId'] == 1).orderBy(F.col('timestamp').asc()).show(\n",
    "        truncate=False)\n",
    "    return samplesWithUserFeatures"
   ]
  },
  {
   "cell_type": "code",
   "execution_count": 19,
   "id": "c522bc1c",
   "metadata": {},
   "outputs": [
    {
     "name": "stdout",
     "output_type": "stream",
     "text": [
      "root\n",
      " |-- movieId: string (nullable = true)\n",
      " |-- userId: string (nullable = true)\n",
      " |-- rating: string (nullable = true)\n",
      " |-- timestamp: string (nullable = true)\n",
      " |-- label: integer (nullable = false)\n",
      " |-- releaseYear: integer (nullable = true)\n",
      " |-- movieGenre1: string (nullable = true)\n",
      " |-- movieGenre2: string (nullable = true)\n",
      " |-- movieGenre3: string (nullable = true)\n",
      " |-- movieRatingCount: long (nullable = true)\n",
      " |-- movieAvgRating: string (nullable = true)\n",
      " |-- movieRatingStddev: string (nullable = true)\n",
      " |-- userRatedMovie1: string (nullable = true)\n",
      " |-- userRatedMovie2: string (nullable = true)\n",
      " |-- userRatedMovie3: string (nullable = true)\n",
      " |-- userRatedMovie4: string (nullable = true)\n",
      " |-- userRatedMovie5: string (nullable = true)\n",
      " |-- userRatingCount: long (nullable = false)\n",
      " |-- userAvgReleaseYear: integer (nullable = true)\n",
      " |-- userReleaseYearStddev: string (nullable = true)\n",
      " |-- userAvgRating: string (nullable = true)\n",
      " |-- userRatingStddev: string (nullable = true)\n",
      " |-- userGenre1: string (nullable = true)\n",
      " |-- userGenre2: string (nullable = true)\n",
      " |-- userGenre3: string (nullable = true)\n",
      " |-- userGenre4: string (nullable = true)\n",
      " |-- userGenre5: string (nullable = true)\n",
      "\n",
      "+-------+------+------+---------+-----+-----------+-----------+-----------+-----------+----------------+--------------+-----------------+---------------+---------------+---------------+---------------+---------------+---------------+------------------+---------------------+-------------+----------------+----------+----------+----------+----------+----------+\n",
      "|movieId|userId|rating|timestamp|label|releaseYear|movieGenre1|movieGenre2|movieGenre3|movieRatingCount|movieAvgRating|movieRatingStddev|userRatedMovie1|userRatedMovie2|userRatedMovie3|userRatedMovie4|userRatedMovie5|userRatingCount|userAvgReleaseYear|userReleaseYearStddev|userAvgRating|userRatingStddev|userGenre1|userGenre2|userGenre3|userGenre4|userGenre5|\n",
      "+-------+------+------+---------+-----+-----------+-----------+-----------+-----------+----------------+--------------+-----------------+---------------+---------------+---------------+---------------+---------------+---------------+------------------+---------------------+-------------+----------------+----------+----------+----------+----------+----------+\n",
      "|    514| 10096|   3.0|954365410|    0|       1994|     Comedy|       null|       null|            1038|          3.50|             0.86|            858|           null|           null|           null|           null|              2|              1982|                14.85|         3.50|            0.71|     Crime|     Drama|      null|      null|      null|\n",
      "|    608| 10096|   3.0|954365515|    0|       1996|     Comedy|      Crime|      Drama|            9505|          4.09|             0.93|            858|           null|           null|           null|           null|              3|              1986|                12.42|         3.33|            0.58|     Crime|     Drama|      null|      null|      null|\n",
      "|     50| 10096|   5.0|954365515|    1|       1995|      Crime|    Mystery|   Thriller|           10221|          4.35|             0.75|            858|           null|           null|           null|           null|              4|              1988|                11.24|         3.25|            0.50|     Crime|     Drama|      null|      null|      null|\n",
      "|    593| 10096|   4.0|954365552|    1|       1991|      Crime|     Horror|   Thriller|           13692|          4.18|             0.85|             50|            858|           null|           null|           null|              5|              1990|                10.12|         3.60|            0.89|     Crime|     Drama|   Mystery|  Thriller|      null|\n",
      "|     25| 10096|   2.0|954365571|    0|       1995|      Drama|    Romance|       null|            4684|          3.69|             1.04|            593|             50|            858|           null|           null|              6|              1990|                 9.06|         3.67|            0.82|     Crime|  Thriller|     Drama|   Mystery|    Horror|\n",
      "|    457| 10096|   5.0|954365571|    1|       1993|   Thriller|       null|       null|           10736|          3.97|             0.78|            593|             50|            858|           null|           null|              7|              1990|                 8.47|         3.43|            0.98|     Crime|  Thriller|     Drama|   Mystery|    Horror|\n",
      "|    541| 10096|   3.0|954365664|    0|       1982|     Action|     Sci-Fi|   Thriller|            6635|          4.14|             0.88|            457|            593|             50|            858|           null|              8|              1991|                 7.88|         3.62|            1.06|     Crime|  Thriller|     Drama|   Mystery|    Horror|\n",
      "|     32| 10351|   4.0|851791255|    1|       1995|    Mystery|     Sci-Fi|   Thriller|            9694|          3.89|             0.86|             25|           null|           null|           null|           null|              2|              1995|                 0.71|         3.50|            0.71|     Drama|   Romance|      null|      null|      null|\n",
      "|      1| 10351|   4.0|851791255|    1|       1995|  Adventure|  Animation|   Children|           10759|          3.91|             0.89|             32|             25|           null|           null|           null|              3|              1995|                 0.58|         3.67|            0.58|     Drama|   Romance|   Mystery|    Sci-Fi|  Thriller|\n",
      "|      6| 10351|   4.0|851791281|    1|       1995|     Action|      Crime|   Thriller|            5245|          3.84|             0.86|              1|             32|             25|           null|           null|              4|              1995|                 0.50|         3.75|            0.50|     Drama|   Romance|   Mystery|    Sci-Fi|  Thriller|\n",
      "+-------+------+------+---------+-----+-----------+-----------+-----------+-----------+----------------+--------------+-----------------+---------------+---------------+---------------+---------------+---------------+---------------+------------------+---------------------+-------------+----------------+----------+----------+----------+----------+----------+\n",
      "only showing top 10 rows\n",
      "\n",
      "+-------+------+------+----------+-----+-----------+-----------+-----------+-----------+----------------+--------------+-----------------+---------------+---------------+---------------+---------------+---------------+---------------+------------------+---------------------+-------------+----------------+----------+----------+----------+----------+----------+\n",
      "|movieId|userId|rating|timestamp |label|releaseYear|movieGenre1|movieGenre2|movieGenre3|movieRatingCount|movieAvgRating|movieRatingStddev|userRatedMovie1|userRatedMovie2|userRatedMovie3|userRatedMovie4|userRatedMovie5|userRatingCount|userAvgReleaseYear|userReleaseYearStddev|userAvgRating|userRatingStddev|userGenre1|userGenre2|userGenre3|userGenre4|userGenre5|\n",
      "+-------+------+------+----------+-----+-----------+-----------+-----------+-----------+----------------+--------------+-----------------+---------------+---------------+---------------+---------------+---------------+---------------+------------------+---------------------+-------------+----------------+----------+----------+----------+----------+----------+\n",
      "|653    |1     |3.0   |1094785691|0    |1996       |Action     |Adventure  |Fantasy    |3148            |3.22          |0.97             |919            |924            |null           |null           |null           |2              |1953              |20.51                |3.50         |0.00            |Adventure |Drama     |Sci-Fi    |Children  |Fantasy   |\n",
      "|337    |1     |3.5   |1094785709|1    |1993       |Drama      |null       |null       |3889            |3.76          |0.86             |919            |924            |null           |null           |null           |3              |1967              |28.50                |3.33         |0.29            |Adventure |Drama     |Sci-Fi    |Children  |Fantasy   |\n",
      "|151    |1     |4.0   |1094785734|1    |1995       |Action     |Drama      |Romance    |2767            |3.57          |0.92             |337            |919            |924            |null           |null           |4              |1974              |26.50                |3.38         |0.25            |Adventure |Drama     |Sci-Fi    |Children  |Fantasy   |\n",
      "|112    |1     |3.5   |1094785740|1    |1995       |Action     |Adventure  |Comedy     |2577            |3.41          |0.95             |151            |337            |919            |924            |null           |5              |1978              |24.79                |3.50         |0.35            |Drama     |Adventure |Sci-Fi    |Children  |Fantasy   |\n",
      "|50     |1     |3.5   |1112484580|1    |1995       |Crime      |Mystery    |Thriller   |10221           |4.35          |0.75             |112            |151            |337            |919            |924            |6              |1981              |23.21                |3.50         |0.32            |Adventure |Drama     |Action    |Sci-Fi    |Children  |\n",
      "|541    |1     |4.0   |1112484603|1    |1982       |Action     |Sci-Fi     |Thriller   |6635            |4.14          |0.88             |50             |112            |151            |337            |919            |7              |1983              |21.84                |3.50         |0.29            |Adventure |Drama     |Action    |Crime     |Sci-Fi    |\n",
      "|593    |1     |3.5   |1112484661|1    |1991       |Crime      |Horror     |Thriller   |13692           |4.18          |0.85             |541            |50             |112            |151            |337            |8              |1982              |20.22                |3.56         |0.32            |Adventure |Drama     |Action    |Sci-Fi    |Crime     |\n",
      "|29     |1     |3.5   |1112484676|1    |1995       |Adventure  |Drama      |Fantasy    |1859            |3.92          |0.97             |593            |541            |50             |112            |151            |9              |1983              |19.11                |3.56         |0.30            |Adventure |Drama     |Action    |Crime     |Thriller  |\n",
      "|293    |1     |4.0   |1112484703|1    |1994       |Action     |Crime      |Drama      |5587            |4.06          |0.81             |29             |593            |541            |50             |112            |10             |1984              |18.36                |3.55         |0.28            |Adventure |Drama     |Sci-Fi    |Action    |Crime     |\n",
      "|47     |1     |3.5   |1112484727|1    |1995       |Mystery    |Thriller   |null       |9335            |4.06          |0.87             |293            |29             |593            |541            |50             |11             |1985              |17.64                |3.59         |0.30            |Drama     |Adventure |Action    |Crime     |Thriller  |\n",
      "|296    |1     |4.0   |1112484767|1    |1994       |Comedy     |Crime      |Drama      |14616           |4.17          |0.98             |47             |293            |29             |593            |541            |12             |1986              |17.03                |3.58         |0.29            |Drama     |Thriller  |Adventure |Action    |Crime     |\n",
      "|318    |1     |4.0   |1112484798|1    |1994       |Crime      |Drama      |null       |13826           |4.45          |0.72             |296            |47             |293            |29             |593            |13             |1987              |16.43                |3.62         |0.30            |Drama     |Thriller  |Crime     |Adventure |Action    |\n",
      "|32     |1     |3.5   |1112484819|1    |1995       |Mystery    |Sci-Fi     |Thriller   |9694            |3.89          |0.86             |318            |296            |47             |293            |29             |14             |1987              |15.90                |3.64         |0.31            |Drama     |Crime     |Thriller  |Adventure |Action    |\n",
      "|260    |1     |4.0   |1112484826|1    |1977       |Action     |Adventure  |Sci-Fi     |11958           |4.19          |0.91             |32             |318            |296            |47             |293            |15             |1988              |15.44                |3.63         |0.30            |Drama     |Thriller  |Crime     |Adventure |Sci-Fi    |\n",
      "|253    |1     |4.0   |1112484940|1    |1994       |Drama      |Horror     |null       |6010            |3.50          |0.94             |260            |32             |318            |296            |47             |16             |1987              |15.17                |3.66         |0.30            |Drama     |Thriller  |Crime     |Adventure |Sci-Fi    |\n",
      "|589    |1     |3.5   |1112485557|1    |1991       |Action     |Sci-Fi     |null       |11483           |3.94          |0.90             |253            |260            |32             |318            |296            |17             |1987              |14.78                |3.68         |0.30            |Drama     |Thriller  |Crime     |Adventure |Sci-Fi    |\n",
      "|223    |1     |4.0   |1112485573|1    |1994       |Comedy     |null       |null       |5102            |3.86          |0.97             |589            |253            |260            |32             |318            |18             |1987              |14.35                |3.67         |0.30            |Drama     |Thriller  |Sci-Fi    |Action    |Crime     |\n",
      "|367    |1     |3.5   |1112485980|1    |1994       |Action     |Comedy     |Crime      |7577            |3.16          |1.00             |223            |589            |253            |260            |32             |19             |1988              |14.02                |3.68         |0.30            |Drama     |Thriller  |Sci-Fi    |Action    |Crime     |\n",
      "|2      |1     |3.5   |1112486027|1    |1995       |Adventure  |Children   |Fantasy    |4853            |3.21          |0.96             |367            |223            |589            |253            |260            |20             |1988              |13.71                |3.67         |0.29            |Drama     |Action    |Crime     |Thriller  |Sci-Fi    |\n",
      "+-------+------+------+----------+-----+-----------+-----------+-----------+-----------+----------------+--------------+-----------------+---------------+---------------+---------------+---------------+---------------+---------------+------------------+---------------------+-------------+----------------+----------+----------+----------+----------+----------+\n",
      "\n",
      "root\n",
      " |-- movieId: string (nullable = true)\n",
      " |-- userId: string (nullable = true)\n",
      " |-- rating: string (nullable = true)\n",
      " |-- timestamp: string (nullable = true)\n",
      " |-- label: integer (nullable = false)\n",
      " |-- releaseYear: integer (nullable = true)\n",
      " |-- movieGenre1: string (nullable = true)\n",
      " |-- movieGenre2: string (nullable = true)\n",
      " |-- movieGenre3: string (nullable = true)\n",
      " |-- movieRatingCount: long (nullable = true)\n",
      " |-- movieAvgRating: string (nullable = true)\n",
      " |-- movieRatingStddev: string (nullable = true)\n",
      " |-- userRatedMovie1: string (nullable = true)\n",
      " |-- userRatedMovie2: string (nullable = true)\n",
      " |-- userRatedMovie3: string (nullable = true)\n",
      " |-- userRatedMovie4: string (nullable = true)\n",
      " |-- userRatedMovie5: string (nullable = true)\n",
      " |-- userRatingCount: long (nullable = false)\n",
      " |-- userAvgReleaseYear: integer (nullable = true)\n",
      " |-- userReleaseYearStddev: string (nullable = true)\n",
      " |-- userAvgRating: string (nullable = true)\n",
      " |-- userRatingStddev: string (nullable = true)\n",
      " |-- userGenre1: string (nullable = true)\n",
      " |-- userGenre2: string (nullable = true)\n",
      " |-- userGenre3: string (nullable = true)\n",
      " |-- userGenre4: string (nullable = true)\n",
      " |-- userGenre5: string (nullable = true)\n",
      "\n"
     ]
    }
   ],
   "source": [
    "samplesWithUserFeatures = addUserFeatures(samplesWithMovieFeatures)\n",
    "samplesWithUserFeatures.printSchema()"
   ]
  },
  {
   "cell_type": "code",
   "execution_count": 20,
   "id": "0f0587e9",
   "metadata": {},
   "outputs": [],
   "source": [
    "def splitAndSaveTrainingTestSamples(samplesWithUserFeatures, file_path):\n",
    "    smallSamples = samplesWithUserFeatures.sample(0.1)\n",
    "    training, test = smallSamples.randomSplit((0.8, 0.2))\n",
    "    trainingSavePath = file_path + '/trainingSamples'\n",
    "    testSavePath = file_path + '/testSamples'\n",
    "    training.repartition(1).write.option(\"header\", \"true\").mode('overwrite') \\\n",
    "        .csv(trainingSavePath)\n",
    "    test.repartition(1).write.option(\"header\", \"true\").mode('overwrite') \\\n",
    "        .csv(testSavePath)"
   ]
  },
  {
   "cell_type": "code",
   "execution_count": 21,
   "id": "97a35d55",
   "metadata": {},
   "outputs": [
    {
     "ename": "Py4JJavaError",
     "evalue": "An error occurred while calling o318.csv.\n: org.apache.spark.SparkException: Job aborted.\r\n\tat org.apache.spark.sql.execution.datasources.FileFormatWriter$.write(FileFormatWriter.scala:231)\r\n\tat org.apache.spark.sql.execution.datasources.InsertIntoHadoopFsRelationCommand.run(InsertIntoHadoopFsRelationCommand.scala:188)\r\n\tat org.apache.spark.sql.execution.command.DataWritingCommandExec.sideEffectResult$lzycompute(commands.scala:108)\r\n\tat org.apache.spark.sql.execution.command.DataWritingCommandExec.sideEffectResult(commands.scala:106)\r\n\tat org.apache.spark.sql.execution.command.DataWritingCommandExec.doExecute(commands.scala:131)\r\n\tat org.apache.spark.sql.execution.SparkPlan.$anonfun$execute$1(SparkPlan.scala:180)\r\n\tat org.apache.spark.sql.execution.SparkPlan.$anonfun$executeQuery$1(SparkPlan.scala:218)\r\n\tat org.apache.spark.rdd.RDDOperationScope$.withScope(RDDOperationScope.scala:151)\r\n\tat org.apache.spark.sql.execution.SparkPlan.executeQuery(SparkPlan.scala:215)\r\n\tat org.apache.spark.sql.execution.SparkPlan.execute(SparkPlan.scala:176)\r\n\tat org.apache.spark.sql.execution.QueryExecution.toRdd$lzycompute(QueryExecution.scala:132)\r\n\tat org.apache.spark.sql.execution.QueryExecution.toRdd(QueryExecution.scala:131)\r\n\tat org.apache.spark.sql.DataFrameWriter.$anonfun$runCommand$1(DataFrameWriter.scala:989)\r\n\tat org.apache.spark.sql.execution.SQLExecution$.$anonfun$withNewExecutionId$5(SQLExecution.scala:103)\r\n\tat org.apache.spark.sql.execution.SQLExecution$.withSQLConfPropagated(SQLExecution.scala:163)\r\n\tat org.apache.spark.sql.execution.SQLExecution$.$anonfun$withNewExecutionId$1(SQLExecution.scala:90)\r\n\tat org.apache.spark.sql.SparkSession.withActive(SparkSession.scala:775)\r\n\tat org.apache.spark.sql.execution.SQLExecution$.withNewExecutionId(SQLExecution.scala:64)\r\n\tat org.apache.spark.sql.DataFrameWriter.runCommand(DataFrameWriter.scala:989)\r\n\tat org.apache.spark.sql.DataFrameWriter.saveToV1Source(DataFrameWriter.scala:438)\r\n\tat org.apache.spark.sql.DataFrameWriter.saveInternal(DataFrameWriter.scala:415)\r\n\tat org.apache.spark.sql.DataFrameWriter.save(DataFrameWriter.scala:293)\r\n\tat org.apache.spark.sql.DataFrameWriter.csv(DataFrameWriter.scala:979)\r\n\tat sun.reflect.NativeMethodAccessorImpl.invoke0(Native Method)\r\n\tat sun.reflect.NativeMethodAccessorImpl.invoke(NativeMethodAccessorImpl.java:62)\r\n\tat sun.reflect.DelegatingMethodAccessorImpl.invoke(DelegatingMethodAccessorImpl.java:43)\r\n\tat java.lang.reflect.Method.invoke(Method.java:498)\r\n\tat py4j.reflection.MethodInvoker.invoke(MethodInvoker.java:244)\r\n\tat py4j.reflection.ReflectionEngine.invoke(ReflectionEngine.java:357)\r\n\tat py4j.Gateway.invoke(Gateway.java:282)\r\n\tat py4j.commands.AbstractCommand.invokeMethod(AbstractCommand.java:132)\r\n\tat py4j.commands.CallCommand.execute(CallCommand.java:79)\r\n\tat py4j.GatewayConnection.run(GatewayConnection.java:238)\r\n\tat java.lang.Thread.run(Thread.java:748)\r\nCaused by: java.lang.UnsatisfiedLinkError: org.apache.hadoop.io.nativeio.NativeIO$Windows.access0(Ljava/lang/String;I)Z\r\n\tat org.apache.hadoop.io.nativeio.NativeIO$Windows.access0(Native Method)\r\n\tat org.apache.hadoop.io.nativeio.NativeIO$Windows.access(NativeIO.java:645)\r\n\tat org.apache.hadoop.fs.FileUtil.canRead(FileUtil.java:1230)\r\n\tat org.apache.hadoop.fs.FileUtil.list(FileUtil.java:1435)\r\n\tat org.apache.hadoop.fs.RawLocalFileSystem.listStatus(RawLocalFileSystem.java:493)\r\n\tat org.apache.hadoop.fs.FileSystem.listStatus(FileSystem.java:1868)\r\n\tat org.apache.hadoop.fs.FileSystem.listStatus(FileSystem.java:1910)\r\n\tat org.apache.hadoop.fs.ChecksumFileSystem.listStatus(ChecksumFileSystem.java:678)\r\n\tat org.apache.hadoop.fs.FileSystem.listStatus(FileSystem.java:1868)\r\n\tat org.apache.hadoop.fs.FileSystem.listStatus(FileSystem.java:1910)\r\n\tat org.apache.hadoop.mapreduce.lib.output.FileOutputCommitter.getAllCommittedTaskPaths(FileOutputCommitter.java:332)\r\n\tat org.apache.hadoop.mapreduce.lib.output.FileOutputCommitter.commitJobInternal(FileOutputCommitter.java:402)\r\n\tat org.apache.hadoop.mapreduce.lib.output.FileOutputCommitter.commitJob(FileOutputCommitter.java:375)\r\n\tat org.apache.spark.internal.io.HadoopMapReduceCommitProtocol.commitJob(HadoopMapReduceCommitProtocol.scala:182)\r\n\tat org.apache.spark.sql.execution.datasources.FileFormatWriter$.write(FileFormatWriter.scala:220)\r\n\t... 33 more\r\n",
     "output_type": "error",
     "traceback": [
      "\u001b[1;31m---------------------------------------------------------------------------\u001b[0m",
      "\u001b[1;31mPy4JJavaError\u001b[0m                             Traceback (most recent call last)",
      "\u001b[1;32m~\\AppData\\Local\\Temp\\4/ipykernel_13568/4075344112.py\u001b[0m in \u001b[0;36m<module>\u001b[1;34m\u001b[0m\n\u001b[0;32m      2\u001b[0m \u001b[1;32mimport\u001b[0m \u001b[0mos\u001b[0m\u001b[1;33m\u001b[0m\u001b[1;33m\u001b[0m\u001b[0m\n\u001b[0;32m      3\u001b[0m \u001b[1;31m# os.environ[\"HADOOP_HOME\"] = r\"C:\\winutil\"\u001b[0m\u001b[1;33m\u001b[0m\u001b[1;33m\u001b[0m\u001b[1;33m\u001b[0m\u001b[0m\n\u001b[1;32m----> 4\u001b[1;33m \u001b[0msplitAndSaveTrainingTestSamples\u001b[0m\u001b[1;33m(\u001b[0m\u001b[0msamplesWithUserFeatures\u001b[0m\u001b[1;33m,\u001b[0m \u001b[0mfile_path\u001b[0m \u001b[1;33m+\u001b[0m \u001b[1;34m\"/webroot/sampledata\"\u001b[0m\u001b[1;33m)\u001b[0m\u001b[1;33m\u001b[0m\u001b[1;33m\u001b[0m\u001b[0m\n\u001b[0m",
      "\u001b[1;32m~\\AppData\\Local\\Temp\\4/ipykernel_13568/3873007860.py\u001b[0m in \u001b[0;36msplitAndSaveTrainingTestSamples\u001b[1;34m(samplesWithUserFeatures, file_path)\u001b[0m\n\u001b[0;32m      4\u001b[0m     \u001b[0mtrainingSavePath\u001b[0m \u001b[1;33m=\u001b[0m \u001b[0mfile_path\u001b[0m \u001b[1;33m+\u001b[0m \u001b[1;34m'/trainingSamples'\u001b[0m\u001b[1;33m\u001b[0m\u001b[1;33m\u001b[0m\u001b[0m\n\u001b[0;32m      5\u001b[0m     \u001b[0mtestSavePath\u001b[0m \u001b[1;33m=\u001b[0m \u001b[0mfile_path\u001b[0m \u001b[1;33m+\u001b[0m \u001b[1;34m'/testSamples'\u001b[0m\u001b[1;33m\u001b[0m\u001b[1;33m\u001b[0m\u001b[0m\n\u001b[1;32m----> 6\u001b[1;33m     \u001b[0mtraining\u001b[0m\u001b[1;33m.\u001b[0m\u001b[0mrepartition\u001b[0m\u001b[1;33m(\u001b[0m\u001b[1;36m1\u001b[0m\u001b[1;33m)\u001b[0m\u001b[1;33m.\u001b[0m\u001b[0mwrite\u001b[0m\u001b[1;33m.\u001b[0m\u001b[0moption\u001b[0m\u001b[1;33m(\u001b[0m\u001b[1;34m\"header\"\u001b[0m\u001b[1;33m,\u001b[0m \u001b[1;34m\"true\"\u001b[0m\u001b[1;33m)\u001b[0m\u001b[1;33m.\u001b[0m\u001b[0mmode\u001b[0m\u001b[1;33m(\u001b[0m\u001b[1;34m'overwrite'\u001b[0m\u001b[1;33m)\u001b[0m\u001b[0;31m \u001b[0m\u001b[0;31m\\\u001b[0m\u001b[1;33m\u001b[0m\u001b[1;33m\u001b[0m\u001b[0m\n\u001b[0m\u001b[0;32m      7\u001b[0m         \u001b[1;33m.\u001b[0m\u001b[0mcsv\u001b[0m\u001b[1;33m(\u001b[0m\u001b[0mtrainingSavePath\u001b[0m\u001b[1;33m)\u001b[0m\u001b[1;33m\u001b[0m\u001b[1;33m\u001b[0m\u001b[0m\n\u001b[0;32m      8\u001b[0m     \u001b[0mtest\u001b[0m\u001b[1;33m.\u001b[0m\u001b[0mrepartition\u001b[0m\u001b[1;33m(\u001b[0m\u001b[1;36m1\u001b[0m\u001b[1;33m)\u001b[0m\u001b[1;33m.\u001b[0m\u001b[0mwrite\u001b[0m\u001b[1;33m.\u001b[0m\u001b[0moption\u001b[0m\u001b[1;33m(\u001b[0m\u001b[1;34m\"header\"\u001b[0m\u001b[1;33m,\u001b[0m \u001b[1;34m\"true\"\u001b[0m\u001b[1;33m)\u001b[0m\u001b[1;33m.\u001b[0m\u001b[0mmode\u001b[0m\u001b[1;33m(\u001b[0m\u001b[1;34m'overwrite'\u001b[0m\u001b[1;33m)\u001b[0m\u001b[0;31m \u001b[0m\u001b[0;31m\\\u001b[0m\u001b[1;33m\u001b[0m\u001b[1;33m\u001b[0m\u001b[0m\n",
      "\u001b[1;32m~\\Anaconda3\\lib\\site-packages\\pyspark\\sql\\readwriter.py\u001b[0m in \u001b[0;36mcsv\u001b[1;34m(self, path, mode, compression, sep, quote, escape, header, nullValue, escapeQuotes, quoteAll, dateFormat, timestampFormat, ignoreLeadingWhiteSpace, ignoreTrailingWhiteSpace, charToEscapeQuoteEscaping, encoding, emptyValue, lineSep)\u001b[0m\n\u001b[0;32m   1370\u001b[0m                        \u001b[0mcharToEscapeQuoteEscaping\u001b[0m\u001b[1;33m=\u001b[0m\u001b[0mcharToEscapeQuoteEscaping\u001b[0m\u001b[1;33m,\u001b[0m\u001b[1;33m\u001b[0m\u001b[1;33m\u001b[0m\u001b[0m\n\u001b[0;32m   1371\u001b[0m                        encoding=encoding, emptyValue=emptyValue, lineSep=lineSep)\n\u001b[1;32m-> 1372\u001b[1;33m         \u001b[0mself\u001b[0m\u001b[1;33m.\u001b[0m\u001b[0m_jwrite\u001b[0m\u001b[1;33m.\u001b[0m\u001b[0mcsv\u001b[0m\u001b[1;33m(\u001b[0m\u001b[0mpath\u001b[0m\u001b[1;33m)\u001b[0m\u001b[1;33m\u001b[0m\u001b[1;33m\u001b[0m\u001b[0m\n\u001b[0m\u001b[0;32m   1373\u001b[0m \u001b[1;33m\u001b[0m\u001b[0m\n\u001b[0;32m   1374\u001b[0m     \u001b[1;32mdef\u001b[0m \u001b[0morc\u001b[0m\u001b[1;33m(\u001b[0m\u001b[0mself\u001b[0m\u001b[1;33m,\u001b[0m \u001b[0mpath\u001b[0m\u001b[1;33m,\u001b[0m \u001b[0mmode\u001b[0m\u001b[1;33m=\u001b[0m\u001b[1;32mNone\u001b[0m\u001b[1;33m,\u001b[0m \u001b[0mpartitionBy\u001b[0m\u001b[1;33m=\u001b[0m\u001b[1;32mNone\u001b[0m\u001b[1;33m,\u001b[0m \u001b[0mcompression\u001b[0m\u001b[1;33m=\u001b[0m\u001b[1;32mNone\u001b[0m\u001b[1;33m)\u001b[0m\u001b[1;33m:\u001b[0m\u001b[1;33m\u001b[0m\u001b[1;33m\u001b[0m\u001b[0m\n",
      "\u001b[1;32m~\\Anaconda3\\lib\\site-packages\\py4j\\java_gateway.py\u001b[0m in \u001b[0;36m__call__\u001b[1;34m(self, *args)\u001b[0m\n\u001b[0;32m   1307\u001b[0m \u001b[1;33m\u001b[0m\u001b[0m\n\u001b[0;32m   1308\u001b[0m         \u001b[0manswer\u001b[0m \u001b[1;33m=\u001b[0m \u001b[0mself\u001b[0m\u001b[1;33m.\u001b[0m\u001b[0mgateway_client\u001b[0m\u001b[1;33m.\u001b[0m\u001b[0msend_command\u001b[0m\u001b[1;33m(\u001b[0m\u001b[0mcommand\u001b[0m\u001b[1;33m)\u001b[0m\u001b[1;33m\u001b[0m\u001b[1;33m\u001b[0m\u001b[0m\n\u001b[1;32m-> 1309\u001b[1;33m         return_value = get_return_value(\n\u001b[0m\u001b[0;32m   1310\u001b[0m             answer, self.gateway_client, self.target_id, self.name)\n\u001b[0;32m   1311\u001b[0m \u001b[1;33m\u001b[0m\u001b[0m\n",
      "\u001b[1;32m~\\Anaconda3\\lib\\site-packages\\pyspark\\sql\\utils.py\u001b[0m in \u001b[0;36mdeco\u001b[1;34m(*a, **kw)\u001b[0m\n\u001b[0;32m    109\u001b[0m     \u001b[1;32mdef\u001b[0m \u001b[0mdeco\u001b[0m\u001b[1;33m(\u001b[0m\u001b[1;33m*\u001b[0m\u001b[0ma\u001b[0m\u001b[1;33m,\u001b[0m \u001b[1;33m**\u001b[0m\u001b[0mkw\u001b[0m\u001b[1;33m)\u001b[0m\u001b[1;33m:\u001b[0m\u001b[1;33m\u001b[0m\u001b[1;33m\u001b[0m\u001b[0m\n\u001b[0;32m    110\u001b[0m         \u001b[1;32mtry\u001b[0m\u001b[1;33m:\u001b[0m\u001b[1;33m\u001b[0m\u001b[1;33m\u001b[0m\u001b[0m\n\u001b[1;32m--> 111\u001b[1;33m             \u001b[1;32mreturn\u001b[0m \u001b[0mf\u001b[0m\u001b[1;33m(\u001b[0m\u001b[1;33m*\u001b[0m\u001b[0ma\u001b[0m\u001b[1;33m,\u001b[0m \u001b[1;33m**\u001b[0m\u001b[0mkw\u001b[0m\u001b[1;33m)\u001b[0m\u001b[1;33m\u001b[0m\u001b[1;33m\u001b[0m\u001b[0m\n\u001b[0m\u001b[0;32m    112\u001b[0m         \u001b[1;32mexcept\u001b[0m \u001b[0mpy4j\u001b[0m\u001b[1;33m.\u001b[0m\u001b[0mprotocol\u001b[0m\u001b[1;33m.\u001b[0m\u001b[0mPy4JJavaError\u001b[0m \u001b[1;32mas\u001b[0m \u001b[0me\u001b[0m\u001b[1;33m:\u001b[0m\u001b[1;33m\u001b[0m\u001b[1;33m\u001b[0m\u001b[0m\n\u001b[0;32m    113\u001b[0m             \u001b[0mconverted\u001b[0m \u001b[1;33m=\u001b[0m \u001b[0mconvert_exception\u001b[0m\u001b[1;33m(\u001b[0m\u001b[0me\u001b[0m\u001b[1;33m.\u001b[0m\u001b[0mjava_exception\u001b[0m\u001b[1;33m)\u001b[0m\u001b[1;33m\u001b[0m\u001b[1;33m\u001b[0m\u001b[0m\n",
      "\u001b[1;32m~\\Anaconda3\\lib\\site-packages\\py4j\\protocol.py\u001b[0m in \u001b[0;36mget_return_value\u001b[1;34m(answer, gateway_client, target_id, name)\u001b[0m\n\u001b[0;32m    324\u001b[0m             \u001b[0mvalue\u001b[0m \u001b[1;33m=\u001b[0m \u001b[0mOUTPUT_CONVERTER\u001b[0m\u001b[1;33m[\u001b[0m\u001b[0mtype\u001b[0m\u001b[1;33m]\u001b[0m\u001b[1;33m(\u001b[0m\u001b[0manswer\u001b[0m\u001b[1;33m[\u001b[0m\u001b[1;36m2\u001b[0m\u001b[1;33m:\u001b[0m\u001b[1;33m]\u001b[0m\u001b[1;33m,\u001b[0m \u001b[0mgateway_client\u001b[0m\u001b[1;33m)\u001b[0m\u001b[1;33m\u001b[0m\u001b[1;33m\u001b[0m\u001b[0m\n\u001b[0;32m    325\u001b[0m             \u001b[1;32mif\u001b[0m \u001b[0manswer\u001b[0m\u001b[1;33m[\u001b[0m\u001b[1;36m1\u001b[0m\u001b[1;33m]\u001b[0m \u001b[1;33m==\u001b[0m \u001b[0mREFERENCE_TYPE\u001b[0m\u001b[1;33m:\u001b[0m\u001b[1;33m\u001b[0m\u001b[1;33m\u001b[0m\u001b[0m\n\u001b[1;32m--> 326\u001b[1;33m                 raise Py4JJavaError(\n\u001b[0m\u001b[0;32m    327\u001b[0m                     \u001b[1;34m\"An error occurred while calling {0}{1}{2}.\\n\"\u001b[0m\u001b[1;33m.\u001b[0m\u001b[1;33m\u001b[0m\u001b[1;33m\u001b[0m\u001b[0m\n\u001b[0;32m    328\u001b[0m                     format(target_id, \".\", name), value)\n",
      "\u001b[1;31mPy4JJavaError\u001b[0m: An error occurred while calling o318.csv.\n: org.apache.spark.SparkException: Job aborted.\r\n\tat org.apache.spark.sql.execution.datasources.FileFormatWriter$.write(FileFormatWriter.scala:231)\r\n\tat org.apache.spark.sql.execution.datasources.InsertIntoHadoopFsRelationCommand.run(InsertIntoHadoopFsRelationCommand.scala:188)\r\n\tat org.apache.spark.sql.execution.command.DataWritingCommandExec.sideEffectResult$lzycompute(commands.scala:108)\r\n\tat org.apache.spark.sql.execution.command.DataWritingCommandExec.sideEffectResult(commands.scala:106)\r\n\tat org.apache.spark.sql.execution.command.DataWritingCommandExec.doExecute(commands.scala:131)\r\n\tat org.apache.spark.sql.execution.SparkPlan.$anonfun$execute$1(SparkPlan.scala:180)\r\n\tat org.apache.spark.sql.execution.SparkPlan.$anonfun$executeQuery$1(SparkPlan.scala:218)\r\n\tat org.apache.spark.rdd.RDDOperationScope$.withScope(RDDOperationScope.scala:151)\r\n\tat org.apache.spark.sql.execution.SparkPlan.executeQuery(SparkPlan.scala:215)\r\n\tat org.apache.spark.sql.execution.SparkPlan.execute(SparkPlan.scala:176)\r\n\tat org.apache.spark.sql.execution.QueryExecution.toRdd$lzycompute(QueryExecution.scala:132)\r\n\tat org.apache.spark.sql.execution.QueryExecution.toRdd(QueryExecution.scala:131)\r\n\tat org.apache.spark.sql.DataFrameWriter.$anonfun$runCommand$1(DataFrameWriter.scala:989)\r\n\tat org.apache.spark.sql.execution.SQLExecution$.$anonfun$withNewExecutionId$5(SQLExecution.scala:103)\r\n\tat org.apache.spark.sql.execution.SQLExecution$.withSQLConfPropagated(SQLExecution.scala:163)\r\n\tat org.apache.spark.sql.execution.SQLExecution$.$anonfun$withNewExecutionId$1(SQLExecution.scala:90)\r\n\tat org.apache.spark.sql.SparkSession.withActive(SparkSession.scala:775)\r\n\tat org.apache.spark.sql.execution.SQLExecution$.withNewExecutionId(SQLExecution.scala:64)\r\n\tat org.apache.spark.sql.DataFrameWriter.runCommand(DataFrameWriter.scala:989)\r\n\tat org.apache.spark.sql.DataFrameWriter.saveToV1Source(DataFrameWriter.scala:438)\r\n\tat org.apache.spark.sql.DataFrameWriter.saveInternal(DataFrameWriter.scala:415)\r\n\tat org.apache.spark.sql.DataFrameWriter.save(DataFrameWriter.scala:293)\r\n\tat org.apache.spark.sql.DataFrameWriter.csv(DataFrameWriter.scala:979)\r\n\tat sun.reflect.NativeMethodAccessorImpl.invoke0(Native Method)\r\n\tat sun.reflect.NativeMethodAccessorImpl.invoke(NativeMethodAccessorImpl.java:62)\r\n\tat sun.reflect.DelegatingMethodAccessorImpl.invoke(DelegatingMethodAccessorImpl.java:43)\r\n\tat java.lang.reflect.Method.invoke(Method.java:498)\r\n\tat py4j.reflection.MethodInvoker.invoke(MethodInvoker.java:244)\r\n\tat py4j.reflection.ReflectionEngine.invoke(ReflectionEngine.java:357)\r\n\tat py4j.Gateway.invoke(Gateway.java:282)\r\n\tat py4j.commands.AbstractCommand.invokeMethod(AbstractCommand.java:132)\r\n\tat py4j.commands.CallCommand.execute(CallCommand.java:79)\r\n\tat py4j.GatewayConnection.run(GatewayConnection.java:238)\r\n\tat java.lang.Thread.run(Thread.java:748)\r\nCaused by: java.lang.UnsatisfiedLinkError: org.apache.hadoop.io.nativeio.NativeIO$Windows.access0(Ljava/lang/String;I)Z\r\n\tat org.apache.hadoop.io.nativeio.NativeIO$Windows.access0(Native Method)\r\n\tat org.apache.hadoop.io.nativeio.NativeIO$Windows.access(NativeIO.java:645)\r\n\tat org.apache.hadoop.fs.FileUtil.canRead(FileUtil.java:1230)\r\n\tat org.apache.hadoop.fs.FileUtil.list(FileUtil.java:1435)\r\n\tat org.apache.hadoop.fs.RawLocalFileSystem.listStatus(RawLocalFileSystem.java:493)\r\n\tat org.apache.hadoop.fs.FileSystem.listStatus(FileSystem.java:1868)\r\n\tat org.apache.hadoop.fs.FileSystem.listStatus(FileSystem.java:1910)\r\n\tat org.apache.hadoop.fs.ChecksumFileSystem.listStatus(ChecksumFileSystem.java:678)\r\n\tat org.apache.hadoop.fs.FileSystem.listStatus(FileSystem.java:1868)\r\n\tat org.apache.hadoop.fs.FileSystem.listStatus(FileSystem.java:1910)\r\n\tat org.apache.hadoop.mapreduce.lib.output.FileOutputCommitter.getAllCommittedTaskPaths(FileOutputCommitter.java:332)\r\n\tat org.apache.hadoop.mapreduce.lib.output.FileOutputCommitter.commitJobInternal(FileOutputCommitter.java:402)\r\n\tat org.apache.hadoop.mapreduce.lib.output.FileOutputCommitter.commitJob(FileOutputCommitter.java:375)\r\n\tat org.apache.spark.internal.io.HadoopMapReduceCommitProtocol.commitJob(HadoopMapReduceCommitProtocol.scala:182)\r\n\tat org.apache.spark.sql.execution.datasources.FileFormatWriter$.write(FileFormatWriter.scala:220)\r\n\t... 33 more\r\n"
     ]
    }
   ],
   "source": [
    "# save samples as csv format\n",
    "import os\n",
    "# os.environ[\"HADOOP_HOME\"] = r\"C:\\winutil\"\n",
    "splitAndSaveTrainingTestSamples(samplesWithUserFeatures, file_path + \"/webroot/sampledata\")"
   ]
  },
  {
   "cell_type": "code",
   "execution_count": null,
   "id": "a8868db4",
   "metadata": {},
   "outputs": [],
   "source": [
    "import os\n",
    "os.environ"
   ]
  },
  {
   "cell_type": "code",
   "execution_count": null,
   "id": "e63b2fa5",
   "metadata": {},
   "outputs": [],
   "source": []
  }
 ],
 "metadata": {
  "kernelspec": {
   "display_name": "Python 3 (ipykernel)",
   "language": "python",
   "name": "python3"
  },
  "language_info": {
   "codemirror_mode": {
    "name": "ipython",
    "version": 3
   },
   "file_extension": ".py",
   "mimetype": "text/x-python",
   "name": "python",
   "nbconvert_exporter": "python",
   "pygments_lexer": "ipython3",
   "version": "3.8.11"
  }
 },
 "nbformat": 4,
 "nbformat_minor": 5
}
