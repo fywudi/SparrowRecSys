{
 "cells": [
  {
   "cell_type": "code",
   "execution_count": 1,
   "id": "ba10dea6",
   "metadata": {},
   "outputs": [],
   "source": [
    "import findspark\n",
    "import os\n",
    "spark_home = r\"C:\\Program Files\\spark-3.2.0-bin-hadoop3.2\"\n",
    "python_path = r\"C:\\Users\\fywud\\anaconda3\\envs\\pyspark_python\\python\"\n",
    "findspark.init(spark_home,python_path)\n",
    "import pyspark \n",
    "from pyspark import SparkContext, SparkConf"
   ]
  },
  {
   "cell_type": "code",
   "execution_count": 3,
   "id": "35789c9c",
   "metadata": {},
   "outputs": [],
   "source": [
    "from pyspark.sql import SparkSession\n",
    "\n",
    "spark = SparkSession.builder \\\n",
    "        .appName(\"test\") \\\n",
    "        .config(\"master\",\"local[4]\") \\\n",
    "        .enableHiveSupport() \\\n",
    "        .getOrCreate()\n",
    "\n",
    "sc = spark.sparkContext"
   ]
  },
  {
   "cell_type": "code",
   "execution_count": 4,
   "id": "52e62273",
   "metadata": {},
   "outputs": [],
   "source": [
    "data = [1,5,7,10,23,20,6,5,10,7,10]\n",
    "dfdata = spark.createDataFrame([(x,) for x in data]).toDF(\"value\")"
   ]
  },
  {
   "cell_type": "code",
   "execution_count": 26,
   "id": "2041d08b",
   "metadata": {},
   "outputs": [
    {
     "name": "stdout",
     "output_type": "stream",
     "text": [
      "+-----------------+\n",
      "|       mean_value|\n",
      "+-----------------+\n",
      "|9.454545454545455|\n",
      "+-----------------+\n",
      "\n"
     ]
    }
   ],
   "source": [
    "from pyspark.sql import functions as F \n",
    "data = [1,5,7,10,23,20,6,5,10,7,10]\n",
    "dfdata = spark.createDataFrame([(x,) for x in data]).toDF(\"value\")\n",
    "sum_val = dfdata.agg(F.mean(\"value\").alias(\"mean_value\"))\n",
    "sum_val.show()"
   ]
  },
  {
   "cell_type": "code",
   "execution_count": 31,
   "id": "52a8a36b",
   "metadata": {},
   "outputs": [
    {
     "name": "stdout",
     "output_type": "stream",
     "text": [
      "+---+-----+\n",
      "|key|count|\n",
      "+---+-----+\n",
      "|  5|    2|\n",
      "|  1|    1|\n",
      "|  7|    2|\n",
      "| 10|    3|\n",
      "| 23|    1|\n",
      "| 20|    1|\n",
      "|  6|    1|\n",
      "+---+-----+\n",
      "\n"
     ]
    }
   ],
   "source": [
    "#任务：求data的平均值\n",
    "data = [1,5,7,10,23,20,6,5,10,7,10]\n",
    "\n",
    "dfdata = spark.createDataFrame([(x, 1) for x in data]).toDF(\"key\", \"value\")\n",
    "dfcount = dfdata.groupby(\"key\").agg(F.count(\"value\").alias(\"count\"))\n",
    "dfcount.show()"
   ]
  },
  {
   "cell_type": "code",
   "execution_count": 36,
   "id": "e089806b",
   "metadata": {},
   "outputs": [
    {
     "data": {
      "text/plain": [
       "3"
      ]
     },
     "execution_count": 36,
     "metadata": {},
     "output_type": "execute_result"
    }
   ],
   "source": [
    "max_count = dfcount.agg(F.max(\"count\").alias(\"max_count\")).take(1)[0][\"max_count\"]\n",
    "max_count"
   ]
  },
  {
   "cell_type": "code",
   "execution_count": 40,
   "id": "dce9510d",
   "metadata": {
    "scrolled": true
   },
   "outputs": [
    {
     "name": "stdout",
     "output_type": "stream",
     "text": [
      "+---+-----+\n",
      "|key|count|\n",
      "+---+-----+\n",
      "| 10|    3|\n",
      "+---+-----+\n",
      "\n"
     ]
    }
   ],
   "source": [
    "dfmode = dfcount.where(dfcount[\"count\"] == max_count)\n",
    "dfmode.show()"
   ]
  },
  {
   "cell_type": "code",
   "execution_count": 42,
   "id": "8872bdc2",
   "metadata": {},
   "outputs": [
    {
     "data": {
      "text/plain": [
       "10.0"
      ]
     },
     "execution_count": 42,
     "metadata": {},
     "output_type": "execute_result"
    }
   ],
   "source": [
    "res = dfmode.agg(F.mean(\"key\").alias(\"ave_key\")).take(1)[0][\"ave_key\"]\n",
    "res"
   ]
  },
  {
   "cell_type": "code",
   "execution_count": 43,
   "id": "40da3702",
   "metadata": {},
   "outputs": [],
   "source": [
    "students = [(\"LiLei\",18,87),(\"HanMeiMei\",16,77),(\"DaChui\",16,66),(\"Jim\",18,77),(\"RuHua\",18,50)]\n",
    "n = 3"
   ]
  },
  {
   "cell_type": "code",
   "execution_count": 44,
   "id": "fef2a459",
   "metadata": {},
   "outputs": [
    {
     "name": "stdout",
     "output_type": "stream",
     "text": [
      "+---------+---+-----+\n",
      "|     name|age|score|\n",
      "+---------+---+-----+\n",
      "|    LiLei| 18|   87|\n",
      "|HanMeiMei| 16|   77|\n",
      "|   DaChui| 16|   66|\n",
      "|      Jim| 18|   77|\n",
      "|    RuHua| 18|   50|\n",
      "+---------+---+-----+\n",
      "\n"
     ]
    }
   ],
   "source": [
    "dfstu = spark.createDataFrame(students).toDF(\"name\",\"age\",\"score\")\n",
    "dfstu.show()"
   ]
  },
  {
   "cell_type": "code",
   "execution_count": 48,
   "id": "ab028578",
   "metadata": {},
   "outputs": [
    {
     "name": "stdout",
     "output_type": "stream",
     "text": [
      "+---------+---+-----+\n",
      "|     name|age|score|\n",
      "+---------+---+-----+\n",
      "|    LiLei| 18|   87|\n",
      "|HanMeiMei| 16|   77|\n",
      "|      Jim| 18|   77|\n",
      "+---------+---+-----+\n",
      "\n"
     ]
    }
   ],
   "source": [
    "dftopn = dfstu.orderBy(\"score\", ascending=False).limit(n)\n",
    "dftopn.show()"
   ]
  },
  {
   "cell_type": "code",
   "execution_count": null,
   "id": "99e26bdd",
   "metadata": {},
   "outputs": [],
   "source": []
  }
 ],
 "metadata": {
  "kernelspec": {
   "display_name": "Python [conda env:pyspark_python] *",
   "language": "python",
   "name": "conda-env-pyspark_python-py"
  },
  "language_info": {
   "codemirror_mode": {
    "name": "ipython",
    "version": 3
   },
   "file_extension": ".py",
   "mimetype": "text/x-python",
   "name": "python",
   "nbconvert_exporter": "python",
   "pygments_lexer": "ipython3",
   "version": "3.8.12"
  }
 },
 "nbformat": 4,
 "nbformat_minor": 5
}
